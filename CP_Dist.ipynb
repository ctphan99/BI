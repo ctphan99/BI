{
 "cells": [
  {
   "cell_type": "code",
   "execution_count": null,
   "metadata": {},
   "outputs": [],
   "source": [
    "#Importing Libraries\n",
    "import pandas as pd\n",
    "import numpy as np\n",
    "from datetime import datetime as dt\n",
    "from scipy.stats import ttest_ind\n",
    "import random \n",
    "import matplotlib.pyplot as plt \n",
    "import plotly.express as px\n",
    "import seaborn as sns\n",
    "import xlsxwriter\n",
    "from pandas import ExcelWriter\n",
    "from sklearn.preprocessing import MinMaxScaler\n",
    "import plotly.graph_objects as go\n",
    "from plotly.subplots import make_subplots"
   ]
  },
  {
   "cell_type": "code",
   "execution_count": null,
   "metadata": {},
   "outputs": [],
   "source": [
    "#GROUP AOV 120K\n",
    "query = '''\n",
    "\n",
    "SELECT _id, fromcity, coupon, segment_name, user_id, date(createdAt, 'Asia/Saigon') as dates\n",
    ", time(createdAt, 'Asia/Saigon') as createdAt, discountedTotalAmount, dishTotalPrice, status\n",
    ", toLocation_0, toLocation_1, originalTotalPrice,\n",
    "  case \n",
    "    when coupon_code_0 like ('QUAT330120%') then 'QUAT330120'\n",
    "    when coupon_code_0 like ('QUAT340120%') then 'QUAT340120'\n",
    "    when coupon_code_0 like ('QUAT350120%') then 'QUAT350120'\n",
    "    when coupon_code_0 like ('QUAT360120%') then 'QUAT360120'\n",
    "    when coupon_code_0 like ('QUAT340150%') then 'QUAT340150'\n",
    "    when coupon_code_0 like ('QUAT350150%') then 'QUAT350150'\n",
    "    when coupon_code_0 like ('QUAT360150%') then 'QUAT360150'\n",
    "    when coupon_code_0 like ('QUAT370150%') then 'QUAT370150'\n",
    "    when coupon_code_0 like ('QUAT350200%') then 'QUAT350200'\n",
    "    when coupon_code_0 like ('QUAT360200%') then 'QUAT360200'\n",
    "    when coupon_code_0 like ('QUAT370200%') then 'QUAT370200'\n",
    "    when coupon_code_0 like ('QUAT380200%') then 'QUAT380200'\n",
    "    when coupon_code_0 like ('NHOBAN%') then 'NHOBAN'\n",
    "    when coupon_code_0 like ('BAEMINMM%') then 'BAEMINMM'\n",
    "    when coupon_code_0 like ('LIXINAMMOI%') then 'LIXINAMMOI'\n",
    "    when coupon_code_0 like 'MEOMAP%' then 'MEOMAP'\n",
    "    when (coupon_code_0 like 'TRUMCUOI%' and coupon_code_0 <> 'TRUMCUOIDONGGIA') then 'TRUMCUOI'\n",
    "    when coupon_code_0 like 'ZALOPAY%' then 'ZALOPAY'\n",
    "    else coupon_code_0 \n",
    "  end as coupon_code_0\n",
    "from dept.personalized_coupon_20210325\n",
    "join baemin.orders on userId = user_id\n",
    "where status = 'DELIVERED'\n",
    "  and createdAt > '2021-02-02'\n",
    "  and merchantType = 'MERCHANT'\n",
    "--  and case \n",
    "--    when coupon in ('QUAT330120xxxx','QUAT340120xxxx','QUAT350120xxxx','QUAT360120xxxx') then dishTotalPrice >=120000\n",
    "--    when coupon in ('QUAT340150xxxx','QUAT350150xxxx','QUAT360150xxxx','QUAT370150xxxx') then dishTotalPrice >=150000\n",
    "--    when coupon in ('QUAT350200xxxx','QUAT360200xxxx','QUAT370200xxxx','QUAT380200xxxx') then dishTotalPrice >=200000\n",
    "--    else coupon ='CONTROL' \n",
    "--    end \n",
    "'''\n",
    "#aov = pd.read_gbq(query,project_id = 'baemin-vietnam',dialect='standard')\n",
    "aov = pd.read_csv('aov.csv')"
   ]
  },
  {
   "cell_type": "code",
   "execution_count": null,
   "metadata": {
    "scrolled": true
   },
   "outputs": [],
   "source": [
    "citylist=['Hồ Chí Minh','Hà Nội']\n",
    "groupcp=[120,150,200]\n",
    "val={120:'120xxxx|CONTROL', 150:'150xxxx|CONTROL', 200:'200xxxx|CONTROL'}\n",
    "short={'Hồ Chí Minh':'HCM', 'Hà Nội':'HN'}\n",
    "price={120:120000, 150:150000, 200:200000}\n",
    "for i in groupcp:\n",
    "        aovg = aov.loc[aov['coupon'].str.contains(val.get(i)) & aov['dishTotalPrice'].ge(price.get(i))]\n",
    "        for j in citylist:\n",
    "            aovcity=aovg[aovg.fromcity==j]   \n",
    "            aov_cpo=aovcity.groupby('coupon').agg(Cost=('discountedTotalAmount','sum'),order_no=('_id','count')).reset_index()\n",
    "            aov_cpo['cost_increment']=  (aov_cpo.loc[1:, 'Cost'] -  aov_cpo.at[0, 'Cost'] )/1000\n",
    "            aov_cpo['order_increment']=  (aov_cpo.loc[1:, 'order_no'] -  aov_cpo.at[0, 'order_no'] )\n",
    "            aov_cpo['norm'] = MinMaxScaler().fit_transform(np.array(aov_cpo.order_increment).reshape(-1,1)) - MinMaxScaler().fit_transform(np.array(aov_cpo.cost_increment).reshape(-1,1))          \n",
    "            aov_cpo=aov_cpo.sort_values(by=['norm'], ascending=False).fillna(0)                                                                           \n",
    "            aov_cpo.rename(columns={\"coupon\":\"{} Coupon\".format(i)}, inplace=True)\n",
    "            aov_cpo.rename(columns={\"Cost\":\"{} Cost\".format(short.get(j))}, inplace=True)\n",
    "            print(aov_cpo)"
   ]
  },
  {
   "cell_type": "code",
   "execution_count": null,
   "metadata": {
    "scrolled": true
   },
   "outputs": [],
   "source": [
    "citylist=['Hồ Chí Minh','Hà Nội']\n",
    "groupcp=[120,150,200]\n",
    "val={120:'120xxxx|CONTROL', 150:'150xxxx|CONTROL', 200:'200xxxx|CONTROL'}\n",
    "short={'Hồ Chí Minh':'HCM', 'Hà Nội':'HN'}\n",
    "price={120:120000, 150:150000, 200:200000}\n",
    "for i in groupcp:\n",
    "        aovg = aov.loc[aov['coupon'].str.contains(val.get(i)) & aov['dishTotalPrice'].ge(price.get(i))]\n",
    "        for j in citylist:\n",
    "            aovcity=aovg[aovg.fromcity==j]   \n",
    "            aov_cpo=aovcity.groupby('coupon').agg(Cost=('discountedTotalAmount','sum'),order_no=('_id','count')).reset_index()\n",
    "            aov_cpo['CPO']=  aov_cpo.Cost/aov_cpo.order_no\n",
    "            aov_cpo['order_increment']=  aov_cpo['order_no'].diff().fillna(0)  \n",
    "            aov_cpo['cpo_increment']=  aov_cpo['CPO'].diff().fillna(0) \n",
    "                   \n",
    "            # Create figure with CPO and or increment plot\n",
    "            fig = make_subplots(specs=[[{\"secondary_y\": True}]])\n",
    "            fig.add_trace(go.Scatter(x=aov_cpo['coupon'], y=aov_cpo['cpo_increment'], name=\"CPO Increment\",line=dict(color=\"#ec1801\"),yaxis=\"y\"),secondary_y=True)\n",
    "            fig.add_trace(go.Scatter(x=aov_cpo['coupon'], y=aov_cpo['order_increment'], name=\"Order Increment\",line=dict(color=\"#0000ff\"), yaxis=\"y2\"),secondary_y=False)\n",
    "            \n",
    "            fig.update_xaxes(title_text=\"Coupon Group\")\n",
    "            fig.update_layout(title_text=\"Group AOV {} in {}\".format(i,j),\n",
    "                              yaxis=dict(title = 'CPO Increment',mirror= True, showline = True, ticklen=4,zeroline= False),\n",
    "                              yaxis2=dict(title ='Orders Increment', overlaying='y', showgrid= False, side= 'right', ticklen=4,zeroline= False )\n",
    "                             )\n",
    "            \n",
    "            fig.show()          "
   ]
  },
  {
   "cell_type": "markdown",
   "metadata": {},
   "source": [
    "#### "
   ]
  }
 ],
 "metadata": {
  "kernelspec": {
   "display_name": "Python 3",
   "language": "python",
   "name": "python3"
  },
  "language_info": {
   "codemirror_mode": {
    "name": "ipython",
    "version": 3
   },
   "file_extension": ".py",
   "mimetype": "text/x-python",
   "name": "python",
   "nbconvert_exporter": "python",
   "pygments_lexer": "ipython3",
   "version": "3.8.5"
  }
 },
 "nbformat": 4,
 "nbformat_minor": 4
}
