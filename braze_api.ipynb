{
 "cells": [
  {
   "cell_type": "code",
   "execution_count": null,
   "metadata": {},
   "outputs": [],
   "source": [
    "import json\n",
    "import gspread\n",
    "import requests\n",
    "import numpy as np\n",
    "import pandas as pd\n",
    "from datetime import datetime\n",
    "from datetime import timedelta\n",
    "from pydrive.auth import GoogleAuth"
   ]
  },
  {
   "cell_type": "code",
   "execution_count": null,
   "metadata": {},
   "outputs": [],
   "source": [
    "# datetime.today()"
   ]
  },
  {
   "cell_type": "code",
   "execution_count": null,
   "metadata": {},
   "outputs": [],
   "source": [
    "# Getting time index for the right sheet and columns\n",
    "today = datetime.today() \n",
    "# + timedelta(days=2)\n",
    "today_col = today.strftime(\"%a X%m/X%d\").replace('X0','X').replace('X','')\n",
    "month_sheet = today.strftime(\"%b %Y\")\n",
    "print(today_col)\n",
    "print(month_sheet)\n",
    "# today_col"
   ]
  },
  {
   "cell_type": "code",
   "execution_count": null,
   "metadata": {},
   "outputs": [],
   "source": [
    "# Fetching the right sheets based on current month\n",
    "#gc = gspread.service_account(filename=\"C:\\\\Users\\\\MSI PC\\\\Documents\\\\CPTracking\\\\credentials.json\")\n",
    "sheet = gc.open('CRM | Comm Calendar')\n",
    "# Defining push, pop-up, inbox sheets?\n",
    "push_sheet = sheet.worksheet(month_sheet + \"_Push\")\n",
    "popup_sheet = sheet.worksheet(month_sheet + \"_Popup\")\n",
    "inbox_sheet = sheet.worksheet(month_sheet + \"_Inbox\")"
   ]
  },
  {
   "cell_type": "code",
   "execution_count": null,
   "metadata": {},
   "outputs": [],
   "source": [
    "type(push_sheet)"
   ]
  },
  {
   "cell_type": "code",
   "execution_count": null,
   "metadata": {
    "scrolled": false
   },
   "outputs": [],
   "source": [
    "header_indices = push_sheet.col_values(2)\n",
    "row_indices = [i for i, x in enumerate(header_indices) if not x == \"\"]\n",
    "col_index = push_sheet.find(today_col).col\n",
    "value_list = push_sheet.col_values(col_index)\n",
    "data_list = [value_list[i] for i in row_indices]\n",
    "data_list\n"
   ]
  },
  {
   "cell_type": "code",
   "execution_count": null,
   "metadata": {},
   "outputs": [],
   "source": [
    "len(value_list)"
   ]
  },
  {
   "cell_type": "code",
   "execution_count": null,
   "metadata": {},
   "outputs": [],
   "source": []
  },
  {
   "cell_type": "code",
   "execution_count": null,
   "metadata": {},
   "outputs": [],
   "source": [
    "# Splitting number of columns by the number of cities to convert list into df\n",
    "city_count = sum(map(lambda x : x == 'city', header_indices))\n",
    "\n",
    "df = pd.DataFrame.from_records(np.array_split(data_list[1:], city_count))"
   ]
  },
  {
   "cell_type": "code",
   "execution_count": null,
   "metadata": {},
   "outputs": [],
   "source": [
    "header_list = [header_indices[i] for i in row_indices]\n",
    "header_columns = np.array_split(header_list[1:], city_count)[0]\n",
    "format_header_columns = [x.lower().replace(\" \", \"_\") for x in header_columns]\n",
    "df.columns = format_header_columns"
   ]
  },
  {
   "cell_type": "code",
   "execution_count": null,
   "metadata": {},
   "outputs": [],
   "source": [
    "# Creating new time of day column and removing waiting_list\n",
    "i = 0\n",
    "\n",
    "while i < len(df.city):\n",
    "    df.loc[i, 'time_of_day'] = \"Morning\"\n",
    "    i += 1\n",
    "    df.loc[i, 'time_of_day'] = \"Afternoon\"\n",
    "    i += 1\n",
    "    df.loc[i, 'time_of_day'] = \"Evening\"\n",
    "    i += 1\n",
    "    df = df.drop([i])\n",
    "    i += 1"
   ]
  },
  {
   "cell_type": "code",
   "execution_count": null,
   "metadata": {},
   "outputs": [],
   "source": [
    "# Cleaning df: Removing Manual push notifications and all empty content pushes\n",
    "df = df[(df.content != '') & ( ~df.targeted_users.str.contains('Manual'))]"
   ]
  },
  {
   "cell_type": "code",
   "execution_count": null,
   "metadata": {},
   "outputs": [],
   "source": [
    "df"
   ]
  },
  {
   "cell_type": "code",
   "execution_count": null,
   "metadata": {},
   "outputs": [],
   "source": [
    "df['campaign_name'] = df.city + df.time_of_day + \"Push\""
   ]
  },
  {
   "cell_type": "code",
   "execution_count": null,
   "metadata": {},
   "outputs": [],
   "source": [
    "# braze_api_key = '7d9eb688-d3a1-4fe6-a43b-cffd1ecf7e53' #dev environment\n",
    "braze_api_key = 'a2504643-c098-41a3-9e3b-d1d3ab116b93' #product environment"
   ]
  },
  {
   "cell_type": "code",
   "execution_count": null,
   "metadata": {},
   "outputs": [],
   "source": [
    "# Getting df of campaign ids of interest\n",
    "\n",
    "payload={}\n",
    "headers = {\n",
    "  'Authorization': 'Bearer ' + braze_api_key\n",
    "}\n",
    "\n",
    "## The page of campaigns to return, defaults to 0 (returns the first set of up to 100) \n",
    "## Currently, there's only 3 pages in braze so I leave it at 4 just in case we decide to expand in the future.\n",
    "pages = 4 \n",
    "\n",
    "campaign_list = []\n",
    "\n",
    "for i in range(pages):\n",
    "\n",
    "    url = \"https://rest.iad-03.braze.com/campaigns/list?page=\"+ str(i) +\"&include_archived=false&sort_direction=desc\"\n",
    "\n",
    "    response = requests.request(\"GET\", url, headers=headers, data=payload)\n",
    "\n",
    "    cleaned_res = json.loads(response.text)\n",
    "\n",
    "    campaign_list.append(cleaned_res['campaigns'])\n",
    "\n",
    "campaign_list = list(np.concatenate(campaign_list).flat)\n",
    "campaign_df = pd.DataFrame()\n",
    "campaign_tags = ('Push', 'Inbox')\n",
    "campaign_df['campaign_id'] = [i['id'] for i in campaign_list if (str(i['name']).endswith(campaign_tags) & i['is_api_campaign'] == True)]\n",
    "campaign_df['campaign_name'] = [i['name'] for i in campaign_list if (str(i['name']).endswith(campaign_tags) & i['is_api_campaign'] == True)]\n"
   ]
  },
  {
   "cell_type": "code",
   "execution_count": null,
   "metadata": {},
   "outputs": [],
   "source": [
    "campaign_df"
   ]
  },
  {
   "cell_type": "code",
   "execution_count": null,
   "metadata": {},
   "outputs": [],
   "source": [
    "# Getting df of segment ids of interest\n",
    "\n",
    "payload={}\n",
    "headers = {\n",
    "  'Authorization': 'Bearer ' + braze_api_key\n",
    "}\n",
    "\n",
    "segment_list = []\n",
    "\n",
    "## pages already defined above, used to overcome the 100 results per page return limit by braze\n",
    "for i in range(pages):\n",
    "\n",
    "    url = \"https://rest.iad-03.braze.com/segments/list?page=\"+ str(i) +\"&sort_direction=desc\"\n",
    "\n",
    "    response = requests.request(\"GET\", url, headers=headers, data=payload)\n",
    "\n",
    "    cleaned_res = json.loads(response.text)\n",
    "\n",
    "    segment_list.append(cleaned_res['segments'])\n",
    "\n",
    "segment_list = list(np.concatenate(segment_list).flat)\n",
    "segment_dict = [dictionary for dictionary in segment_list if ('API' in dictionary[\"tags\"] and 'PRODUCTION' in dictionary[\"tags\"])]\n",
    "segment_df = pd.DataFrame.from_dict(segment_dict)\n",
    "segment_df.rename(columns={\"id\":\"segment_id\", \"name\":\"segment_name\", \"tags\":\"segment_tags\"}, inplace=True)"
   ]
  },
  {
   "cell_type": "code",
   "execution_count": null,
   "metadata": {},
   "outputs": [],
   "source": [
    "segment_df"
   ]
  },
  {
   "cell_type": "code",
   "execution_count": null,
   "metadata": {},
   "outputs": [],
   "source": [
    "# Getting df of variation ids for android and ios push based on campaign of interest\n",
    "def get_variation_id(campaign_id):\n",
    "        \n",
    "    url = \"https://rest.iad-03.braze.com/campaigns/details?campaign_id=\" + str(campaign_id)\n",
    "\n",
    "    payload={}\n",
    "    headers = {\n",
    "      'Authorization': 'Bearer ' + braze_api_key\n",
    "    }\n",
    "\n",
    "    response = requests.request(\"GET\", url, headers=headers, data=payload)\n",
    "    cleaned_res = json.loads(response.text)\n",
    "    \n",
    "    lt = [] \n",
    "    lt.append(cleaned_res.get('name', None))\n",
    "    lt.append(list(cleaned_res['messages'].keys())[0])\n",
    "    lt.append(list(cleaned_res['messages'].keys())[1])\n",
    "    \n",
    "    return lt"
   ]
  },
  {
   "cell_type": "code",
   "execution_count": null,
   "metadata": {},
   "outputs": [],
   "source": [
    "lt = [get_variation_id(i) for i in campaign_df.campaign_id]\n",
    "\n",
    "campaign_details_df = pd.DataFrame(lt, columns=['campaign_name', 'ios_variation_id', 'android_variation_id'])"
   ]
  },
  {
   "cell_type": "code",
   "execution_count": null,
   "metadata": {},
   "outputs": [],
   "source": [
    "push_df = df.merge(campaign_details_df.merge(campaign_df, on='campaign_name'), on='campaign_name')\\\n",
    "    .merge(segment_df, left_on='city', right_on='segment_name')"
   ]
  },
  {
   "cell_type": "code",
   "execution_count": null,
   "metadata": {},
   "outputs": [],
   "source": [
    "push_df['braze_api_key'] = braze_api_key\n",
    "push_df['schedule_time'] = today.strftime(\"%Y-%m-%d\")+'T'+push_df['time']+\":00\""
   ]
  },
  {
   "cell_type": "code",
   "execution_count": null,
   "metadata": {},
   "outputs": [],
   "source": [
    "push_df"
   ]
  },
  {
   "cell_type": "code",
   "execution_count": null,
   "metadata": {},
   "outputs": [],
   "source": [
    "## Test segment functionality\n",
    "# test_push_df = push_df\n",
    "# test_push_df['segment_id'] = '8a5e504b-f0af-4fef-a357-683aacf04c93' # for segment Test_CRM_Automate \n",
    "# push_df['segment_id'] = 'eed772fa-00d3-4539-bcdc-d305324b5688' # for segment Test_CRM_Automate \n",
    "# test_push_df.loc[test_push_df.city == 'HCM','segment_id']  = '1b369b49-6be1-4172-abea-e0c1a780918d'\n",
    "# test_push_df.loc[test_push_df.city == 'HN','segment_id']  = 'ad62af46-2d20-4aee-8870-0b5016b3d146'\n",
    "\n",
    "## Test push time\n",
    "# test_push_df = push_df[(push_df.city == 'HCM') | (push_df.city == 'HN')]\n",
    "# test_push_df = push_df[push_df.time == \"14:00\"]\n",
    "\n",
    "# test_push_df\n",
    "# .reset_index(drop=True, inplace=True)"
   ]
  },
  {
   "cell_type": "code",
   "execution_count": null,
   "metadata": {},
   "outputs": [],
   "source": [
    "# test_push_df"
   ]
  },
  {
   "cell_type": "code",
   "execution_count": null,
   "metadata": {},
   "outputs": [],
   "source": [
    "##Function to print out schedule post payload data \n",
    "\n",
    "# def print_payload(api_key, campaign_id, segment_id, time, title, alert, custom_uri, ios_vid, android_vid):\n",
    "    \n",
    "#     payload = {\n",
    "#           \"api_key\": api_key,\n",
    "#           \"campaign_id\": campaign_id,\n",
    "#           \"broadcast\": True,\n",
    "#           \"segment_id\": segment_id,\n",
    "#           \"schedule\": { \n",
    "#             \"time\": time,\n",
    "#             \"in_local_time\": True\n",
    "#           },\n",
    "#           \"override_frequency_capping\": True,\n",
    "#           \"messages\": {\n",
    "#              \"apple_push\": {\n",
    "#              \"alert\": {\n",
    "#                  \"title\": title,\n",
    "#                  \"body\": alert},\n",
    "#              \"custom_uri\": custom_uri,\n",
    "#              \"message_variation_id\": ios_vid\n",
    "#              },\n",
    "#              \"android_push\": {\n",
    "#              \"title\": title,\n",
    "#              \"alert\": alert,\n",
    "#              \"custom_uri\": custom_uri,\n",
    "#              \"message_variation_id\": android_vid\n",
    "#              }\n",
    "#            }\n",
    "#         }\n",
    "\n",
    "#     print(payload)"
   ]
  },
  {
   "cell_type": "code",
   "execution_count": null,
   "metadata": {},
   "outputs": [],
   "source": [
    "# # Printing out all scheduled posts\n",
    "# [print_payload(push_df.braze_api_key[i], push_df.campaign_id[i], push_df.segment_id[i], push_df.schedule_time[i], \\\n",
    "#                     push_df.title[i], push_df.content[i], push_df.deep_link[i], push_df.ios_variation_id[i], \\\n",
    "#                     push_df.android_variation_id[i]) for i in range(len(push_df))]"
   ]
  },
  {
   "cell_type": "code",
   "execution_count": null,
   "metadata": {},
   "outputs": [],
   "source": [
    "def post_push_campaign(api_key, campaign_id, segment_id, time, title, alert, custom_uri, ios_vid, android_vid):\n",
    "    \n",
    "    url = \"https://rest.iad-03.braze.com/messages/schedule/create\"\n",
    "\n",
    "    payload = {\n",
    "          \"api_key\": api_key,\n",
    "          \"campaign_id\": campaign_id,\n",
    "          \"broadcast\": True,\n",
    "          \"segment_id\": segment_id,\n",
    "          \"schedule\": { \n",
    "            \"time\": time,\n",
    "            \"in_local_time\": True\n",
    "          },\n",
    "          \"override_frequency_capping\": True,\n",
    "          \"messages\": {\n",
    "             \"apple_push\": {\n",
    "             \"alert\": {\n",
    "                 \"title\": title,\n",
    "                 \"body\": alert},\n",
    "             \"custom_uri\": custom_uri,\n",
    "             \"message_variation_id\": ios_vid\n",
    "             },\n",
    "             \"android_push\": {\n",
    "             \"title\": title,\n",
    "             \"alert\": alert,\n",
    "             \"custom_uri\": custom_uri,\n",
    "             \"message_variation_id\": android_vid\n",
    "             }\n",
    "           }\n",
    "        }\n",
    "    \n",
    "    payload = json.dumps(payload)\n",
    "    \n",
    "    headers = {\n",
    "      'Content-Type': 'application/json'\n",
    "    }\n",
    "\n",
    "    response = requests.request(\"POST\", url, headers=headers, data = payload.encode('utf-8'))\n",
    "\n",
    "    print(response.text)"
   ]
  },
  {
   "cell_type": "code",
   "execution_count": null,
   "metadata": {},
   "outputs": [],
   "source": [
    "# ## Testing on our end to make sure that users receive all pushes \n",
    "# [post_push_campaign(test_push_df.braze_api_key[i], test_push_df.campaign_id[i], test_push_df.segment_id[i], test_push_df.schedule_time[i], \\\n",
    "#                     test_push_df.title[i], test_push_df.content[i], test_push_df.deep_link[i], test_push_df.ios_variation_id[i], \\\n",
    "#                     test_push_df.android_variation_id[i]) for i in range(len(test_push_df))]"
   ]
  },
  {
   "cell_type": "code",
   "execution_count": null,
   "metadata": {},
   "outputs": [],
   "source": [
    "# #Actually Sending pushes to end-users \n",
    "# [post_push_campaign(push_df.braze_api_key[i], push_df.campaign_id[i], push_df.segment_id[i], push_df.schedule_time[i], \\\n",
    "#                    push_df.title[i], push_df.content[i], push_df.deep_link[i], push_df.ios_variation_id[i], \\\n",
    "#                    push_df.android_variation_id[i]) for i in range(len(push_df))]"
   ]
  },
  {
   "cell_type": "code",
   "execution_count": null,
   "metadata": {
    "scrolled": false
   },
   "outputs": [],
   "source": [
    "# Flagging date as push scheduled \n",
    "push_sheet.update_cell(1, col_index, 'SCHEDULED')"
   ]
  },
  {
   "cell_type": "markdown",
   "metadata": {},
   "source": [
    "## Popup and Inbox section (Under Construction!!)"
   ]
  },
  {
   "cell_type": "code",
   "execution_count": null,
   "metadata": {},
   "outputs": [],
   "source": [
    "ib_header_indices = inbox_sheet.col_values(2)\n",
    "ib_row_indices = [i for i, x in enumerate(ib_header_indices) if not x == \"\"]\n",
    "ib_col_index = inbox_sheet.find(today_col).col\n",
    "ib_value_list = inbox_sheet.col_values(ib_col_index)\n",
    "ib_data_list = [ib_value_list[i] for i in ib_row_indices]\n",
    "ib_data_list"
   ]
  },
  {
   "cell_type": "code",
   "execution_count": null,
   "metadata": {},
   "outputs": [],
   "source": [
    "# GDrive authorization for downloading images\n",
    "http://localhost:8888/notebooks/Documents/CRM_API/braze_api.ipynb#Popup-and-Inbox-section-(Under-Construction!!)\n",
    "# gauth = GoogleAuth()\n",
    "# gauth.LocalWebserverAuth()\n",
    "# drive = GoogleDrive(gauth)"
   ]
  },
  {
   "cell_type": "code",
   "execution_count": null,
   "metadata": {},
   "outputs": [],
   "source": [
    "# file_obj = drive.CreateFile({'id': '1XlSmsaao9Y4K1fxzcwVvbUcncWVuX1yd'})\n",
    "# file_obj.GetContentFile('Demo.jpg')"
   ]
  }
 ],
 "metadata": {
  "kernelspec": {
   "display_name": "Python 3",
   "language": "python",
   "name": "python3"
  },
  "language_info": {
   "codemirror_mode": {
    "name": "ipython",
    "version": 3
   },
   "file_extension": ".py",
   "mimetype": "text/x-python",
   "name": "python",
   "nbconvert_exporter": "python",
   "pygments_lexer": "ipython3",
   "version": "3.8.5"
  }
 },
 "nbformat": 4,
 "nbformat_minor": 4
}
